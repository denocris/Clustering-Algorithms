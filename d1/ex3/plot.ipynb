{
 "cells": [
  {
   "cell_type": "markdown",
   "metadata": {},
   "source": [
    "# Dimensionality Reduction (PCA)"
   ]
  },
  {
   "cell_type": "code",
   "execution_count": 21,
   "metadata": {
    "collapsed": false
   },
   "outputs": [],
   "source": [
    "from pylab import *"
   ]
  },
  {
   "cell_type": "code",
   "execution_count": 31,
   "metadata": {
    "collapsed": false
   },
   "outputs": [],
   "source": [
    "data = [0.0000000000000000, 2.1287840056012444E-002, 3.1122116479560726E-002,\n",
    "        3.7634671486688212E-002, 3.9668970185293993E-002,4.4934268813639294E-002,4.8012997510744136E-002  ,\n",
    "        5.3254356636703026E-002  , 5.7442710396585626E-002  , 6.4364146110631779E-002  , 6.6808926513584985E-002  ,\n",
    "        7.2044206932130150E-002 ,  8.7837533602991208E-002   ,9.3159263194383807E-002 , 0.10067583760798227    ,\n",
    "        0.10464526867870656    ,   0.10949441760255509  ,     0.11849763789855361    ,   0.12909619852374860   ,\n",
    "        0.13350625928900209     ,  0.15203518470901364  ,     0.16101005418465997    ,   0.16988502398194499     ,\n",
    "        0.19063165344434305    ,   0.20827192986263424    ,   0.24970812258990233     ,  0.26556277950812890   ,\n",
    "        0.27736763732302694     ,  0.33967482225547480  ,     0.45038620511415184   ,    0.64096449498724706     ,\n",
    "        0.69069000737883079    ,    1.1338471689932499    ,    2.8960869824486641]\n",
    "\n",
    "\n",
    "data = data[::-1]"
   ]
  },
  {
   "cell_type": "code",
   "execution_count": 35,
   "metadata": {
    "collapsed": false
   },
   "outputs": [
    {
     "data": {
      "image/png": "[encoded data removed]",
      "text/plain": [
       "<matplotlib.figure.Figure at 0x10d55dc50>"
      ]
     },
     "metadata": {},
     "output_type": "display_data"
    }
   ],
   "source": [
    "plt.figure()\n",
    "plt.semilogy(range(1,35), data, \"^\")\n",
    "plt.show()"
   ]
  },
  {
   "cell_type": "markdown",
   "metadata": {
    "collapsed": true
   },
   "source": [
    "From the graph we can see that the number of dimension in which project the data is around 7."
   ]
  }
 ],
 "metadata": {
  "anaconda-cloud": {},
  "kernelspec": {
   "display_name": "Python [conda root]",
   "language": "python",
   "name": "conda-root-py"
  },
  "language_info": {
   "codemirror_mode": {
    "name": "ipython",
    "version": 2
   },
   "file_extension": ".py",
   "mimetype": "text/x-python",
   "name": "python",
   "nbconvert_exporter": "python",
   "pygments_lexer": "ipython2",
   "version": "2.7.12"
  }
 },
 "nbformat": 4,
 "nbformat_minor": 1
}
